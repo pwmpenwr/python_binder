{
 "cells": [
  {
   "cell_type": "code",
   "execution_count": 7,
   "metadata": {},
   "outputs": [],
   "source": [
    "%matplotlib inline\n",
    "\n",
    "import numpy as np\n",
    "import matplotlib.pyplot as plt\n",
    "import matplotlib.cm as cm\n",
    "\n",
    "# Image width and height; parameters for the plot\n",
    "im_width, im_height = 500, 500\n",
    "c = complex(-0.1, 0.65)\n",
    "zabs_max = 10\n",
    "nit_max = 1000\n",
    "xmin, xmax = -1.5, 1.5\n",
    "xwidth = xmax - xmin\n",
    "ymin, ymax = -1.5, 1.5\n",
    "yheight = ymax - ymin\n",
    "\n",
    "julia = np.zeros((im_width, im_height))\n",
    "for ix in range(im_width):\n",
    "    for iy in range(im_height):\n",
    "        nit = 0\n",
    "        # Map pixel position to a point in the complex plane\n",
    "        z = complex(ix / im_width * xwidth + xmin,\n",
    "                    iy / im_height * yheight + ymin)\n",
    "        # Do the iterations\n",
    "        while abs(z) <= zabs_max and nit < nit_max:\n",
    "            z = z**2 + c\n",
    "            nit += 1\n",
    "        shade = 1-np.sqrt(nit / nit_max)\n",
    "        ratio = nit / nit_max\n",
    "        julia[ix,iy] = ratio\n",
    "\n",
    "fig, ax = plt.subplots()\n",
    "ax.imshow(julia, interpolation='nearest', cmap=cm.hot)\n",
    "# Set the tick labels to the coordinates of z0 in the complex plane\n",
    "xtick_labels = np.linspace(xmin, xmax, int(xwidth / 0.5))\n",
    "ax.set_xticks([(x-xmin) / xwidth * im_width for x in xtick_labels])\n",
    "ax.set_xticklabels(['{:.1f}'.format(xtick) for xtick in xtick_labels])\n",
    "ytick_labels = np.linspace(ymin, ymax, int(yheight / 0.5))\n",
    "ax.set_yticks([(y-ymin) / yheight * im_height for y in ytick_labels])\n",
    "ax.set_yticklabels(['{:.1f}'.format(ytick) for ytick in ytick_labels])\n",
    "plt.show()"
   ]
  }
 ],
 "metadata": {
  "kernelspec": {
   "display_name": "Python 3",
   "language": "python",
   "name": "python3"
  },
  "language_info": {
   "codemirror_mode": {
    "name": "ipython",
    "version": 3
   },
   "file_extension": ".py",
   "mimetype": "text/x-python",
   "name": "python",
   "nbconvert_exporter": "python",
   "pygments_lexer": "ipython3",
   "version": "3.6.5"
  }
 },
 "nbformat": 4,
 "nbformat_minor": 2
}
